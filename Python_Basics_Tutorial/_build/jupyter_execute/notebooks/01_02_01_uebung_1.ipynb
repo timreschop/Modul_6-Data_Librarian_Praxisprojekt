{
 "cells": [
  {
   "cell_type": "markdown",
   "id": "3e2de2a8",
   "metadata": {},
   "source": [
    "# Übung 1\n",
    "\n",
    "### Jetzt bist Du an der Reihe! Löse die folgende Übung:\n",
    "\n",
    "### Berechne das Produkt aus 3 und 6 und speichere das Ergebnis in der Variable v_1. Dividiere das Ergebnis durch 2 und speichere dieses Ergebnis in der Variable v_2. Lass dir dann das Ergebnis von v_2 ausgeben."
   ]
  },
  {
   "cell_type": "code",
   "execution_count": 2,
   "id": "6966bb41-eb6f-4139-a677-d485a4c3b3bf",
   "metadata": {},
   "outputs": [],
   "source": [
    "#Schreibe hier deine Lösung\n"
   ]
  },
  {
   "cell_type": "markdown",
   "id": "ab4f75a5-d4d9-44f0-a4e8-bfb91c7e03d1",
   "metadata": {
    "jp-MarkdownHeadingCollapsed": true
   },
   "source": [
    "```{admonition} Beispiel‑Lösung\n",
    ":class: dropdown\n",
    "```python\n",
    "# v_1 = 3*6\n",
    "# v_1/2 = v_2\n",
    "# print(v_2)\n",
    "```\n",
    "```"
   ]
  }
 ],
 "metadata": {
  "kernelspec": {
   "display_name": "Python 3 (ipykernel)",
   "language": "python",
   "name": "python3"
  },
  "language_info": {
   "codemirror_mode": {
    "name": "ipython",
    "version": 3
   },
   "file_extension": ".py",
   "mimetype": "text/x-python",
   "name": "python",
   "nbconvert_exporter": "python",
   "pygments_lexer": "ipython3",
   "version": "3.12.7"
  }
 },
 "nbformat": 4,
 "nbformat_minor": 5
}
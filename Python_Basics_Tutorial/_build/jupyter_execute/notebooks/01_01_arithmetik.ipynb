{
 "cells": [
  {
   "cell_type": "markdown",
   "id": "416cbefc-fbe3-49e7-883c-d95f15737209",
   "metadata": {},
   "source": [
    "## Arithmetik\n",
    "\n",
    "### In seinen grundlegendsten Funktion kann Python wie bereits erwähnt wie ein Taschenrechner verwendet werden - also ganz basal für Addition, Multiplikation, Subtraktion und Division, aber auch weitaus komplexere Berechnungen.\n",
    "\n",
    "### In der folgenden Zelle findest Du einige Bespiele für solche Aufgaben, wobei der Befehl *print(...)* verwendet wird, um eine Ausgabe erzeugen zu lassen. "
   ]
  },
  {
   "cell_type": "code",
   "execution_count": 23,
   "id": "72ff2263-cf94-4cd3-9c1e-339365013421",
   "metadata": {},
   "outputs": [
    {
     "name": "stdout",
     "output_type": "stream",
     "text": [
      "5\n",
      "3\n",
      "8.0\n",
      "10\n",
      "27\n"
     ]
    }
   ],
   "source": [
    "print(2 + 3) #Addition\n",
    "print(6 - 3) #Subtraktion\n",
    "print(24 / 3) #Division\n",
    "print(2 * 5) #Multiplikation\n",
    "print(3 ** 3) #Potenzierung"
   ]
  },
  {
   "cell_type": "markdown",
   "id": "5d5be84b-c9b1-4a23-a193-349896a73f6a",
   "metadata": {},
   "source": [
    "### Du kannst das *#-Symbol* verwenden, um Deinen Code zu kommentieren, d.h. dass alles hinter dem *#-Symbol* nicht als Code ausgeführt wird. Kommmentare sind sehr hilfreich, um dem Code direkt eine Erklärung zum besseren Verständnis hinzuzufügen."
   ]
  }
 ],
 "metadata": {
  "kernelspec": {
   "display_name": "Python 3 (ipykernel)",
   "language": "python",
   "name": "python3"
  },
  "language_info": {
   "codemirror_mode": {
    "name": "ipython",
    "version": 3
   },
   "file_extension": ".py",
   "mimetype": "text/x-python",
   "name": "python",
   "nbconvert_exporter": "python",
   "pygments_lexer": "ipython3",
   "version": "3.12.7"
  }
 },
 "nbformat": 4,
 "nbformat_minor": 5
}
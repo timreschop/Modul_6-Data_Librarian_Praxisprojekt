{
 "cells": [
  {
   "cell_type": "markdown",
   "id": "a7210482-3c7d-4e24-8c02-bed221754edd",
   "metadata": {},
   "source": [
    "# 3. Module\n",
    "\n",
    "### Mit Python kann man im Grunde alles von Grund auf neu programmieren. Es gibt allerdings schon sehr viel Code, der bereits von anderen Python-Nutzern umgesetzt wurde. Wenn dieser Code online veröffentlicht wurde, kannst auch Du ihn nutzen und für deine Zwecke anpassen. \n",
    "\n",
    "### Da Python mit verschiedenen Modulen bzw. Bibliotheken arbeitet, musst du diese aber zunächst installieren und importieren, bevor Funktionen und Code verwenden kannst, der entsprechende Module benutzt, die nicht schon in Python vorinstalliert sind.\n",
    "\n",
    "## Bibliotheken installieren\n",
    "\n",
    "### Es gibt sehr viele weitere Bibliotheken, die in der Standardversion von Python noch nicht enthalten sind. Die Veröffentlichungen von Python-Bibliotheken werden i.d.R. auf https://pypi.org veröffentlicht\n",
    "\n",
    "### Um Bibliotheken von PyPi zu installieren, kannst du **pip** verwenden. Du kannst **pip** direkt aus Python heraus in deinem Notebook aufrufen, üblicherweise benutzt man **pip** aber über das Terminal.\n",
    "\n",
    "### Eine der am meisten verwendeten Bibliotheken sind **pandas** und **matplotlib**, die insbesondere zur Datenverarbeitung, -analyse und -visualisierung verwendet werden. Hier zeigen wir dir beide Wege der Installation einmal exemplarisch:"
   ]
  },
  {
   "cell_type": "code",
   "execution_count": 42,
   "id": "cda647dc-8fb3-4248-a9d1-6de9daf22f74",
   "metadata": {},
   "outputs": [
    {
     "name": "stderr",
     "output_type": "stream",
     "text": [
      "WARNING: pip is being invoked by an old script wrapper. This will fail in a future version of pip.\n",
      "Please see https://github.com/pypa/pip/issues/5599 for advice on fixing the underlying issue.\n",
      "To avoid this problem you can invoke Python with '-m pip' instead of running pip directly.\n"
     ]
    },
    {
     "data": {
      "text/html": [
       "<pre style=\"white-space:pre;overflow-x:auto;line-height:normal;font-family:Menlo,'DejaVu Sans Mono',consolas,'Courier New',monospace\">Requirement already satisfied: pandas in /home/tim/anaconda3/lib/python3.12/site-packages (2.2.2)\n",
       "</pre>\n"
      ],
      "text/plain": [
       "Requirement already satisfied: pandas in /home/tim/anaconda3/lib/python3.12/site-packages (2.2.2)\n"
      ]
     },
     "metadata": {},
     "output_type": "display_data"
    },
    {
     "data": {
      "text/html": [
       "<pre style=\"white-space:pre;overflow-x:auto;line-height:normal;font-family:Menlo,'DejaVu Sans Mono',consolas,'Courier New',monospace\">Requirement already satisfied: numpy&gt;=1.26.0 in /home/tim/anaconda3/lib/python3.12/site-packages (from pandas) (1.26.4)\n",
       "</pre>\n"
      ],
      "text/plain": [
       "Requirement already satisfied: numpy>=1.26.0 in /home/tim/anaconda3/lib/python3.12/site-packages (from pandas) (1.26.4)\n"
      ]
     },
     "metadata": {},
     "output_type": "display_data"
    },
    {
     "data": {
      "text/html": [
       "<pre style=\"white-space:pre;overflow-x:auto;line-height:normal;font-family:Menlo,'DejaVu Sans Mono',consolas,'Courier New',monospace\">Requirement already satisfied: python-dateutil&gt;=2.8.2 in /home/tim/anaconda3/lib/python3.12/site-packages (from pandas) (2.9.0.post0)\n",
       "</pre>\n"
      ],
      "text/plain": [
       "Requirement already satisfied: python-dateutil>=2.8.2 in /home/tim/anaconda3/lib/python3.12/site-packages (from pandas) (2.9.0.post0)\n"
      ]
     },
     "metadata": {},
     "output_type": "display_data"
    },
    {
     "data": {
      "text/html": [
       "<pre style=\"white-space:pre;overflow-x:auto;line-height:normal;font-family:Menlo,'DejaVu Sans Mono',consolas,'Courier New',monospace\">Requirement already satisfied: pytz&gt;=2020.1 in /home/tim/anaconda3/lib/python3.12/site-packages (from pandas) (2024.1)\n",
       "</pre>\n"
      ],
      "text/plain": [
       "Requirement already satisfied: pytz>=2020.1 in /home/tim/anaconda3/lib/python3.12/site-packages (from pandas) (2024.1)\n"
      ]
     },
     "metadata": {},
     "output_type": "display_data"
    },
    {
     "data": {
      "text/html": [
       "<pre style=\"white-space:pre;overflow-x:auto;line-height:normal;font-family:Menlo,'DejaVu Sans Mono',consolas,'Courier New',monospace\">Requirement already satisfied: tzdata&gt;=2022.7 in /home/tim/anaconda3/lib/python3.12/site-packages (from pandas) (2023.3)\n",
       "</pre>\n"
      ],
      "text/plain": [
       "Requirement already satisfied: tzdata>=2022.7 in /home/tim/anaconda3/lib/python3.12/site-packages (from pandas) (2023.3)\n"
      ]
     },
     "metadata": {},
     "output_type": "display_data"
    },
    {
     "data": {
      "text/html": [
       "<pre style=\"white-space:pre;overflow-x:auto;line-height:normal;font-family:Menlo,'DejaVu Sans Mono',consolas,'Courier New',monospace\">Requirement already satisfied: six&gt;=1.5 in /home/tim/anaconda3/lib/python3.12/site-packages (from python-dateutil&gt;=2.8.2-&gt;pandas) (1.16.0)\n",
       "</pre>\n"
      ],
      "text/plain": [
       "Requirement already satisfied: six>=1.5 in /home/tim/anaconda3/lib/python3.12/site-packages (from python-dateutil>=2.8.2->pandas) (1.16.0)\n"
      ]
     },
     "metadata": {},
     "output_type": "display_data"
    },
    {
     "data": {
      "text/plain": [
       "0"
      ]
     },
     "execution_count": 42,
     "metadata": {},
     "output_type": "execute_result"
    }
   ],
   "source": [
    "#Installation direkt aus Python heraus\n",
    "import pip\n",
    "pip.main([\"install\", \"pandas\"])"
   ]
  },
  {
   "cell_type": "code",
   "execution_count": 43,
   "id": "d1bb3e39-4f72-423f-a219-f7641c32267c",
   "metadata": {},
   "outputs": [
    {
     "ename": "SyntaxError",
     "evalue": "invalid syntax (1260933214.py, line 2)",
     "output_type": "error",
     "traceback": [
      "\u001b[0;36m  Cell \u001b[0;32mIn[43], line 2\u001b[0;36m\u001b[0m\n\u001b[0;31m    pip install pandas\u001b[0m\n\u001b[0m        ^\u001b[0m\n\u001b[0;31mSyntaxError\u001b[0m\u001b[0;31m:\u001b[0m invalid syntax\n"
     ]
    }
   ],
   "source": [
    "#Installation im Terminal\n",
    "pip install pandas"
   ]
  },
  {
   "cell_type": "markdown",
   "id": "187e004d-be0e-4ded-9ce1-a3c0394d6a56",
   "metadata": {},
   "source": [
    "### Um eine Bibliothek oder ein Modul zu installieren, muss der Befehl **import** verwendet werden und der Name der Bibliohek und an Alias angegeben werden:"
   ]
  },
  {
   "cell_type": "code",
   "execution_count": 44,
   "id": "597154ee-fc5d-46be-819a-d1d3597348d0",
   "metadata": {},
   "outputs": [
    {
     "data": {
      "text/html": [
       "<pre style=\"white-space:pre;overflow-x:auto;line-height:normal;font-family:Menlo,'DejaVu Sans Mono',consolas,'Courier New',monospace\">NumExpr defaulting to 1 threads.\n",
       "</pre>\n"
      ],
      "text/plain": [
       "NumExpr defaulting to 1 threads.\n"
      ]
     },
     "metadata": {},
     "output_type": "display_data"
    }
   ],
   "source": [
    "import pandas as pd\n",
    "\n",
    "#oder\n",
    "\n",
    "import matplotlib.pyplot as plt"
   ]
  },
  {
   "cell_type": "markdown",
   "id": "8bad1d12-6543-4197-b3d8-1c7b835d07ca",
   "metadata": {},
   "source": [
    "### Funktionen von **pandas** können jetzt über das Kürzel **pd** abgerufen werden."
   ]
  }
 ],
 "metadata": {
  "kernelspec": {
   "display_name": "Python 3 (ipykernel)",
   "language": "python",
   "name": "python3"
  },
  "language_info": {
   "codemirror_mode": {
    "name": "ipython",
    "version": 3
   },
   "file_extension": ".py",
   "mimetype": "text/x-python",
   "name": "python",
   "nbconvert_exporter": "python",
   "pygments_lexer": "ipython3",
   "version": "3.12.7"
  }
 },
 "nbformat": 4,
 "nbformat_minor": 5
}
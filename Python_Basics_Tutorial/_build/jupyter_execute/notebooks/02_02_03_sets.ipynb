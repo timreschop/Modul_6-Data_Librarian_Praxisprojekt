{
 "cells": [
  {
   "cell_type": "markdown",
   "id": "766662c4",
   "metadata": {},
   "source": [
    "# Sets\n",
    "\n",
    "### *Sets* sind \"ungeordnet\" und außerdem nicht indizierbar, d.h. Du kannst über den *Index* nicht auf einzelne Objekte des Sets zugreifen. Außerdem ist jedes Objekt in einem *Set* einzigartig, sodass doppelte Werte automatisch entfernt werden.\n",
    "\n",
    "### *Sets* werden mit geschweiften Klammern und Kommata erzeugt:\n"
   ]
  },
  {
   "cell_type": "code",
   "execution_count": 1,
   "id": "18087acb-a699-4247-a89b-3a392937b5d9",
   "metadata": {},
   "outputs": [
    {
     "name": "stdout",
     "output_type": "stream",
     "text": [
      "{1, 2, 3, 4, 5}\n"
     ]
    }
   ],
   "source": [
    "set_1 = {1, 2, 3, 3, 4, 5} #Man achte auf die doppelte 3!\n",
    "print(set_1)"
   ]
  },
  {
   "cell_type": "markdown",
   "id": "868b0272-11af-4070-a7e1-1e02dde7cc0b",
   "metadata": {},
   "source": [
    "### Sets sind z.B. sehr nützlich, wenn man Duplikate aus Listen entfernen möchte:"
   ]
  },
  {
   "cell_type": "code",
   "execution_count": 2,
   "id": "eb8ae155-4c33-4488-9cad-fdf1c1da2be0",
   "metadata": {},
   "outputs": [
    {
     "name": "stdout",
     "output_type": "stream",
     "text": [
      "<class 'set'>\n",
      "[1, 2, 3, 4, 5] <class 'list'>\n"
     ]
    }
   ],
   "source": [
    "list_1 = [1, 2, 3, 1, 4, 5]\n",
    "list_1 = set(list_1) #Wandelt die Liste in ein Set um, wodurch doppelte Werte entfernt werden.\n",
    "print(type(list_1))\n",
    "list_1 = list(list_1) #Wandelt das Set wieder in eine Liste um, die jetzt keine Duplikate mehr enthält.\n",
    "print(list_1, type(list_1))"
   ]
  }
 ],
 "metadata": {
  "kernelspec": {
   "display_name": "Python 3 (ipykernel)",
   "language": "python",
   "name": "python3"
  },
  "language_info": {
   "codemirror_mode": {
    "name": "ipython",
    "version": 3
   },
   "file_extension": ".py",
   "mimetype": "text/x-python",
   "name": "python",
   "nbconvert_exporter": "python",
   "pygments_lexer": "ipython3",
   "version": "3.12.7"
  }
 },
 "nbformat": 4,
 "nbformat_minor": 5
}
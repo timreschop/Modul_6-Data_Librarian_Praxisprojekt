{
 "cells": [
  {
   "cell_type": "markdown",
   "id": "416cbefc-fbe3-49e7-883c-d95f15737209",
   "metadata": {},
   "source": [
    "## Variablen\n",
    "\n",
    "### In Python arbeitet man sehr häufig mit Variablen. Das bedeutet, dass Du bestimmte Werte in Variablen abspeichern kannst bzw. auch mehrere Werte in einer Variable. Das ist sehr nützlich, wenn ein Wert mehrfach im Code verwendet werden soll. Eine Zuweisung erfolgt über den *= - Operator*. Die Benennung der Variablen ist beliebig, d.h. Du kannst sie benennen, wie Du willst. Es empfiehlt sich jedoch in der Praxis, Namen zu verwenden, die die Variable sinnvoll mit dem Wert assoziieren. Das macht den Code für Dich und andere verständlicher. \n",
    "\n",
    "### **HINWEIS**: Achte darauf, bei der Benennung von Variablen, keine bereits verwendeten Namen zu verwenden. Du kennst z.B. schon die print(...)-Funktion. Wenn du eine Variable \"print\" nennst, würde das die Funktion überschreiben, die dann nicht mehr ausgeführt werden könnte.\n",
    "\n",
    "### In der folgenden Zelle siehst Du, wie man eine Variable einem Wert zuweist und diese dann über print(...) ausgeben lassen kann."
   ]
  },
  {
   "cell_type": "code",
   "execution_count": 1,
   "id": "72ff2263-cf94-4cd3-9c1e-339365013421",
   "metadata": {},
   "outputs": [
    {
     "name": "stdout",
     "output_type": "stream",
     "text": [
      "5\n"
     ]
    }
   ],
   "source": [
    "x = 5\n",
    "print(x)"
   ]
  },
  {
   "cell_type": "markdown",
   "id": "5d5be84b-c9b1-4a23-a193-349896a73f6a",
   "metadata": {},
   "source": [
    "### Du kannst dieselbe Variable dann mit *=* auch wieder überschreiben, z.B. so:"
   ]
  },
  {
   "cell_type": "code",
   "execution_count": 2,
   "id": "6c3848a5-e904-445e-898c-7fbeadb04162",
   "metadata": {},
   "outputs": [
    {
     "name": "stdout",
     "output_type": "stream",
     "text": [
      "5\n",
      "10\n"
     ]
    }
   ],
   "source": [
    "x = 5\n",
    "print(x)\n",
    "x = x + 5\n",
    "print(x)"
   ]
  },
  {
   "cell_type": "markdown",
   "id": "dc04069e-745d-4f08-a6ab-2c64913e5cde",
   "metadata": {},
   "source": [
    "### Die Variable *x* ist somit überschrieben und nun dem Wert 10 zugewiesen.\n",
    "\n",
    "### Variablen sind also schlicht Platzhalter für Objekte, in diesem Fall eine ganze Zahl (*Integer* oder *Int*). Wenn wir weitere Variablen definieren, können wir mit diesen auch Berechnungen anstellen:"
   ]
  },
  {
   "cell_type": "code",
   "execution_count": 3,
   "id": "504f8d7f-2c65-4778-804c-69a4d77bd0df",
   "metadata": {},
   "outputs": [
    {
     "name": "stdout",
     "output_type": "stream",
     "text": [
      "17\n"
     ]
    }
   ],
   "source": [
    "x = 5\n",
    "x = x + 2 #Überschreibt die Variable x wieder\n",
    "y = 10\n",
    "z = x + y\n",
    "print(z)"
   ]
  },
  {
   "cell_type": "markdown",
   "id": "5e447b14-aeb2-4327-b886-d9713e8c8db2",
   "metadata": {},
   "source": [
    "### Du kannst, wie bereits erwähnt, auch mehrere Objekte in einer Variable speichern und ausgeben lassen, z.B. so:"
   ]
  },
  {
   "cell_type": "code",
   "execution_count": 4,
   "id": "8a4c3930-f1df-483b-af64-67fbef82dfff",
   "metadata": {},
   "outputs": [
    {
     "name": "stdout",
     "output_type": "stream",
     "text": [
      "('Germany', 'Italy', 'France', 'UK', 'USA', 'Canada', 'Japan')\n"
     ]
    }
   ],
   "source": [
    "g7_countries = (\"Germany\", \"Italy\", \"France\", \"UK\", \"USA\", \"Canada\", \"Japan\")\n",
    "print(g7_countries)"
   ]
  },
  {
   "cell_type": "markdown",
   "id": "7777fc6b-8394-454d-ba55-bb0c029f8398",
   "metadata": {},
   "source": [
    "### In diesem Fall sind die Objekte keine ganzen Zahlen/Integers sondern sogenannte *Strings*. Ein *String* in Python ist einfach ein Stück Text – also alles, was aus Buchstaben, Zahlen oder Zeichen besteht **und in Anführungszeichen** steht. Doch dazu später mehr."
   ]
  }
 ],
 "metadata": {
  "kernelspec": {
   "display_name": "Python 3 (ipykernel)",
   "language": "python",
   "name": "python3"
  },
  "language_info": {
   "codemirror_mode": {
    "name": "ipython",
    "version": 3
   },
   "file_extension": ".py",
   "mimetype": "text/x-python",
   "name": "python",
   "nbconvert_exporter": "python",
   "pygments_lexer": "ipython3",
   "version": "3.12.7"
  }
 },
 "nbformat": 4,
 "nbformat_minor": 5
}
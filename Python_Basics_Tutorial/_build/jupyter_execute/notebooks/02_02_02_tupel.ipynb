{
 "cells": [
  {
   "cell_type": "markdown",
   "id": "5eade618",
   "metadata": {},
   "source": [
    "# Tupel\n",
    "\n",
    "### Tupel sind der unflexibelste Datentyp, da sie nicht verändert werden können. Daher sollten sie nur verwendet werden, wenn die Daten mit Sicherheit gleich bleiben. \n",
    "\n",
    "### Ein Tupel wird mit runden Klammern und Kommata erzeugt und wenn du dich erinnerst, haben wir auch schon einen erstellt, nämlich:"
   ]
  },
  {
   "cell_type": "code",
   "execution_count": 1,
   "id": "0ad654e9-22a5-42d0-9da1-40cab4e20588",
   "metadata": {},
   "outputs": [
    {
     "name": "stdout",
     "output_type": "stream",
     "text": [
      "('Germany', 'Italy', 'France', 'UK', 'USA', 'Canada', 'Japan')\n"
     ]
    }
   ],
   "source": [
    "g7_countries = (\"Germany\", \"Italy\", \"France\", \"UK\", \"USA\", \"Canada\", \"Japan\")\n",
    "print(g7_countries)"
   ]
  },
  {
   "cell_type": "markdown",
   "id": "16921698-0383-4801-b6c6-0f4e9d286e5f",
   "metadata": {},
   "source": [
    "### Das besondere an Tupeln ist das *Tuple Unpacking*, wobei mehrere Variablen gleichzeitig automatisch zugewiesen werden können:"
   ]
  },
  {
   "cell_type": "code",
   "execution_count": 3,
   "id": "25876a36-4b3d-4a01-82af-24272b1b9762",
   "metadata": {},
   "outputs": [
    {
     "name": "stdout",
     "output_type": "stream",
     "text": [
      "Germany\n",
      "Italy\n",
      "France\n"
     ]
    }
   ],
   "source": [
    "g7_countries = (\"Germany\", \"Italy\", \"France\", \"UK\", \"USA\", \"Canada\", \"Japan\")\n",
    "e, f, g, h, i, k, l = g7_countries\n",
    "print(e)\n",
    "print(f)\n",
    "print(g)\n",
    "#usw..."
   ]
  }
 ],
 "metadata": {
  "kernelspec": {
   "display_name": "Python 3 (ipykernel)",
   "language": "python",
   "name": "python3"
  },
  "language_info": {
   "codemirror_mode": {
    "name": "ipython",
    "version": 3
   },
   "file_extension": ".py",
   "mimetype": "text/x-python",
   "name": "python",
   "nbconvert_exporter": "python",
   "pygments_lexer": "ipython3",
   "version": "3.12.7"
  }
 },
 "nbformat": 4,
 "nbformat_minor": 5
}
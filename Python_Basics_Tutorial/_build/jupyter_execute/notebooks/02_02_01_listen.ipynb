{
 "cells": [
  {
   "cell_type": "markdown",
   "id": "954cc31e-f304-4ba3-b982-dd1bab8d9bc3",
   "metadata": {},
   "source": [
    "# Listen\n",
    "\n",
    "### Listen sind die flexibleste Art, um mehrere Objekte in einer Variablen zu speichern. Listen werden mit eckigen Klammern erstellt, in denen Du die einzelnen Objekte mit Kommata trennst:"
   ]
  },
  {
   "cell_type": "code",
   "execution_count": 1,
   "id": "04db7876-8509-4755-97dc-7e6d96e0a043",
   "metadata": {},
   "outputs": [
    {
     "name": "stdout",
     "output_type": "stream",
     "text": [
      "['Alex', 'Giselle', 'Can', 'Amber', 'Friedrich']\n",
      "[24, 23, 26, 21, 29]\n"
     ]
    }
   ],
   "source": [
    "names = [\"Alex\", \"Giselle\", \"Can\", \"Amber\", \"Friedrich\"] #Liste aus Strings\n",
    "age = [24, 23, 26, 21, 29] #Liste aus integers\n",
    "\n",
    "print(names)\n",
    "print(age)"
   ]
  },
  {
   "cell_type": "markdown",
   "id": "86ed8c10-bc12-4576-98f8-ee809ae0400d",
   "metadata": {},
   "source": [
    "### Man kann auch auf einzelne Elemente einer Liste zugreifen - über den sog. *Index*.\n",
    "\n",
    "### **HINWEIS**: Die Indexierung, d.h. die \"Durchnummerierung\" der Objekte in einer Liste beginnt in Python bei 0 und nicht bei 1, d.h. wenn ich auf der erste Objekt eine Liste zugreifen will, ist der Index 0, und beim zweiten Objekt 1 usw:print(age[0]) #Durch [0] mache gebe ich an, auf welches Objekt ich zugreifen will."
   ]
  },
  {
   "cell_type": "code",
   "execution_count": 2,
   "id": "450d808c-b1e7-4fa1-8206-4a7d38594d35",
   "metadata": {},
   "outputs": [
    {
     "name": "stdout",
     "output_type": "stream",
     "text": [
      "24\n"
     ]
    }
   ],
   "source": [
    "print(age[0]) #Durch [0] mache gebe ich an, auf welches Objekt ich zugreifen will."
   ]
  },
  {
   "cell_type": "markdown",
   "id": "c9665489-1b88-4828-b972-f7eeea91c584",
   "metadata": {},
   "source": [
    "### Negative Indizes können ebenfalls verwendet werden, um Objekte aus der Liste \"von hinten\" zu erhalten. Mit -1 greift man bspw. auf das letzte Objekt einer Liste zu."
   ]
  },
  {
   "cell_type": "code",
   "execution_count": 3,
   "id": "123baf3f-6fe9-48e9-b339-e4babc87af18",
   "metadata": {},
   "outputs": [
    {
     "name": "stdout",
     "output_type": "stream",
     "text": [
      "29\n"
     ]
    }
   ],
   "source": [
    "print(age[-1])"
   ]
  },
  {
   "cell_type": "markdown",
   "id": "8febe528-7f58-45a6-9f1e-4929d5ff0fa0",
   "metadata": {},
   "source": [
    "### Listen sind, wie gesagt, flexibel, d.h. sie können jederzeit verändert, erweitert oder dezimiert werden. Mit den Funktionen append() und remove() kannst du Objekte hinzufügen bzw. entfernen:"
   ]
  },
  {
   "cell_type": "code",
   "execution_count": 4,
   "id": "98c20948-1c6e-4200-a635-0be1c854c78e",
   "metadata": {},
   "outputs": [
    {
     "name": "stdout",
     "output_type": "stream",
     "text": [
      "['Giselle', 'Can', 'Amber', 'Friedrich', 'Raffael']\n",
      "[23, 26, 21, 29, 31]\n"
     ]
    }
   ],
   "source": [
    "names.append(\"Raffael\")\n",
    "age.append(31)\n",
    "\n",
    "names.remove(\"Alex\")\n",
    "age.remove(24)\n",
    "\n",
    "print(names)\n",
    "print(age)"
   ]
  },
  {
   "cell_type": "markdown",
   "id": "f36a0d1b-cc96-4ece-a230-44415754a862",
   "metadata": {},
   "source": [
    "## **Übung 1 (Listen)**\n",
    "\n",
    "### Erstelle eine neue Liste mit den Namen *Benny, Emre, Charlotte, Oleg* und *Anastasia*. Lösche dann *Benny* aus der Liste, füge *Lukas* hinzu und gib die Liste aus."
   ]
  },
  {
   "cell_type": "code",
   "execution_count": 5,
   "id": "2eb4511c-455a-4f0d-8d3b-44458b179fb5",
   "metadata": {},
   "outputs": [],
   "source": [
    "# Schreibe hier deine Lösung.\n"
   ]
  },
  {
   "cell_type": "markdown",
   "id": "7d0ac754-5817-4115-b683-9d302dc38d5f",
   "metadata": {},
   "source": [
    "```{admonition} Beispiel‑Lösung\n",
    ":class: dropdown\n",
    "```python\n",
    "# names_2 = [\"Benny\", \"Emre\", \"Charlotte\", \"Oleg\", \"Anastasia\"]\n",
    "# names_2.remove(\"Benny\")\n",
    "# names_2.append(\"Lukas\")\n",
    "# names_2\n",
    "```\n",
    "```"
   ]
  },
  {
   "cell_type": "markdown",
   "id": "8b7a8f8d-43e5-4697-b74a-d65e16cc5a4a",
   "metadata": {},
   "source": [
    "## **Übung 2 (Listen)**\n",
    "\n",
    "### Erstelle eine Liste mit den Zahlen 1 bis 3. Füge dann den String \"Four\" hinzu und gib die Liste aus"
   ]
  },
  {
   "cell_type": "code",
   "execution_count": 6,
   "id": "9da2437a-8503-4ce8-9287-0f40d7b18521",
   "metadata": {},
   "outputs": [],
   "source": [
    "# Schreibe hier deine Lösung."
   ]
  },
  {
   "cell_type": "markdown",
   "id": "1dc34732-1320-4b01-9b76-b875a4bdfdfd",
   "metadata": {},
   "source": [
    "```{admonition} Beispiel‑Lösung\n",
    ":class: dropdown\n",
    "```python\n",
    "# numbers = [1, 2, 3]\n",
    "# numbers.append(\"Four\")\n",
    "# numbers\n",
    "```"
   ]
  }
 ],
 "metadata": {
  "kernelspec": {
   "display_name": "Python 3 (ipykernel)",
   "language": "python",
   "name": "python3"
  },
  "language_info": {
   "codemirror_mode": {
    "name": "ipython",
    "version": 3
   },
   "file_extension": ".py",
   "mimetype": "text/x-python",
   "name": "python",
   "nbconvert_exporter": "python",
   "pygments_lexer": "ipython3",
   "version": "3.12.7"
  }
 },
 "nbformat": 4,
 "nbformat_minor": 5
}
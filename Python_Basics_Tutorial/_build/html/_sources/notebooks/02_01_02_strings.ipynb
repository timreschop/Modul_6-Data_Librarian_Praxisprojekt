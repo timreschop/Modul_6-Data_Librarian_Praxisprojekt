{
 "cells": [
  {
   "cell_type": "markdown",
   "id": "954cc31e-f304-4ba3-b982-dd1bab8d9bc3",
   "metadata": {},
   "source": [
    "# **Strings**\n",
    "\n",
    "### *Strings* sind Zeichenfolgen (Buchstaben, Symbole, aber auch Zahlen usw.). *Strings* werden erstellt, indem man die Zeichenfolge in einfache oder doppelte Anführungszeichen einschließt, so wie hier:"
   ]
  },
  {
   "cell_type": "code",
   "execution_count": 29,
   "id": "04db7876-8509-4755-97dc-7e6d96e0a043",
   "metadata": {},
   "outputs": [
    {
     "name": "stdout",
     "output_type": "stream",
     "text": [
      "Hello, World! <class 'str'>\n",
      "Hello, World! <class 'str'>\n"
     ]
    }
   ],
   "source": [
    "a = 'Hello, World!'\n",
    "b = \"Hello, World!\"\n",
    "\n",
    "print(a, type(a))\n",
    "print(b, type(b))"
   ]
  }
 ],
 "metadata": {
  "kernelspec": {
   "display_name": "Python 3 (ipykernel)",
   "language": "python",
   "name": "python3"
  },
  "language_info": {
   "codemirror_mode": {
    "name": "ipython",
    "version": 3
   },
   "file_extension": ".py",
   "mimetype": "text/x-python",
   "name": "python",
   "nbconvert_exporter": "python",
   "pygments_lexer": "ipython3",
   "version": "3.12.7"
  }
 },
 "nbformat": 4,
 "nbformat_minor": 5
}

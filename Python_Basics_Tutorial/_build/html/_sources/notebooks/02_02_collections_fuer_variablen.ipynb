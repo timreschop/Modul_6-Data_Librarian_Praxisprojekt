{
 "cells": [
  {
   "cell_type": "markdown",
   "id": "d06bc245",
   "metadata": {},
   "source": [
    "# Collections für Variablen\n",
    "\n",
    "### Python bietet die Möglichkeit, mehrere Werte in einer einzigen Variable zu speichern, sogenannte *Collections*. Die gängigsten *Collection*-Typen sind Listen, Tupel, Sets und Dictionaries.\n"
   ]
  }
 ],
 "metadata": {
  "kernelspec": {
   "display_name": "Python 3 (ipykernel)",
   "language": "python",
   "name": "python3"
  },
  "language_info": {
   "codemirror_mode": {
    "name": "ipython",
    "version": 3
   },
   "file_extension": ".py",
   "mimetype": "text/x-python",
   "name": "python",
   "nbconvert_exporter": "python",
   "pygments_lexer": "ipython3",
   "version": "3.12.7"
  }
 },
 "nbformat": 4,
 "nbformat_minor": 5
}

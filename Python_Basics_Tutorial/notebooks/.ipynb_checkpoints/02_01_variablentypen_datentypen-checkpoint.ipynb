{
 "cells": [
  {
   "cell_type": "markdown",
   "id": "18164875",
   "metadata": {},
   "source": [
    "# Variablentypen / Datentypen\n",
    "\n",
    "### In Python kann eine Variable ganz unterschiedliche Arten von Informationen speichern. Diese „Arten“ nennt man Datentypen – sie bestimmen, wie der Computer die Inhalte versteht und verarbeitet.\n",
    "\n",
    "### **Numerische Datentypen** sind Zahlen, mit denen man rechnen kann. Dazu gehören ganze Zahlen (int), Kommazahlen (float) und sehr große oder kleine Zahlen in wissenschaftlicher Schreibweise.\n",
    "\n",
    "### **Strings** sind Texte, also Folgen von Zeichen wie Buchstaben, Zahlen oder Satzzeichen. Sie stehen in Anführungszeichen, z. B. \"Hallo Welt\".\n",
    "\n",
    "### **Booleans** speichern nur zwei Werte: True (wahr) oder False (falsch). Sie werden oft für Entscheidungen in Programmen verwendet.\n",
    "\n",
    "## **Collections** fassen mehrere Werte in einer einzigen Variable zusammen:\n",
    "\n",
    "### **Listen (list)** sind veränderbare, geordnete Sammlungen, in denen du Elemente hinzufügen oder entfernen kannst.\n",
    "\n",
    "### **Tupel (tuple)** sind wie Listen, aber unveränderlich.\n",
    "\n",
    "### **Sets** sind ungeordnete Sammlungen ohne doppelte Elemente.\n",
    "\n",
    "### **Dictionaries (dict)** speichern Werte in Form von Schlüssel-Wert-Paaren, ähnlich wie ein Wörterbuch.\n",
    "\n",
    "### Das Kennenlernen dieser Datentypen ist wichtig, weil sie die Grundlage für jede Datenverarbeitung in Python bilden."
   ]
  }
 ],
 "metadata": {
  "kernelspec": {
   "display_name": "Python 3 (ipykernel)",
   "language": "python",
   "name": "python3"
  },
  "language_info": {
   "codemirror_mode": {
    "name": "ipython",
    "version": 3
   },
   "file_extension": ".py",
   "mimetype": "text/x-python",
   "name": "python",
   "nbconvert_exporter": "python",
   "pygments_lexer": "ipython3",
   "version": "3.12.7"
  }
 },
 "nbformat": 4,
 "nbformat_minor": 5
}

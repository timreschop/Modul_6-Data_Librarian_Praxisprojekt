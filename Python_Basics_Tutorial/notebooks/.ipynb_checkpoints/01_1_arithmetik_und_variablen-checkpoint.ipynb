{
 "cells": [
  {
   "cell_type": "markdown",
   "id": "416cbefc-fbe3-49e7-883c-d95f15737209",
   "metadata": {},
   "source": [
    "# 1. Arithmetik und Variablen\n",
    "\n",
    "### In Python kannst du den Computer wie einen Taschenrechner verwenden: Du gibst Rechenaufgaben ein, und er liefert dir das Ergebnis. Das nennt man arithmetische Operationen – dazu gehören zum Beispiel das Addieren, Subtrahieren, Multiplizieren und Dividieren von Zahlen.\n",
    "\n",
    "### Damit du nicht jede Zahl immer wieder neu eingeben musst, kannst du Werte in Variablen speichern. Eine Variable ist wie eine kleine, beschriftete Box im Speicher deines Computers. Du legst etwas hinein – zum Beispiel eine Zahl oder einen Text – und kannst diesen Inhalt später jederzeit abrufen oder verändern. Variablen helfen dir, deine Programme übersichtlicher zu gestalten und mit gespeicherten Daten zu arbeiten, anstatt sie ständig neu eingeben zu müssen.\n",
    "\n",
    "### So bilden Arithmetik und Variablen die Grundlage für fast alles, was du in Python programmierst: Rechnen, Daten merken und diese weiterverarbeiten."
   ]
  }
 ],
 "metadata": {
  "kernelspec": {
   "display_name": "Python 3 (ipykernel)",
   "language": "python",
   "name": "python3"
  },
  "language_info": {
   "codemirror_mode": {
    "name": "ipython",
    "version": 3
   },
   "file_extension": ".py",
   "mimetype": "text/x-python",
   "name": "python",
   "nbconvert_exporter": "python",
   "pygments_lexer": "ipython3",
   "version": "3.12.7"
  }
 },
 "nbformat": 4,
 "nbformat_minor": 5
}

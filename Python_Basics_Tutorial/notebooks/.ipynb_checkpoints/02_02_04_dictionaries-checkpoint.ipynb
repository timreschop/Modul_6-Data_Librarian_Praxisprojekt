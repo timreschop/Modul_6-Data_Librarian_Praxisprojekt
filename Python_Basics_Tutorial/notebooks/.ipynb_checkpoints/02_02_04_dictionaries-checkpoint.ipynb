{
 "cells": [
  {
   "cell_type": "markdown",
   "id": "5f4e6632",
   "metadata": {},
   "source": [
    "# Dictionaries\n",
    "\n",
    "### Im Prinzip sind Dictionaries eine erweiterte Version von Listen und Sets. Listen enthalten nur Werte, während Dictionaries aus *Schlüssel-Wert-Paaren* bestehen, die aber - im Gegensatz zu den Werten einer Liste - ungeordnet sind. Dictionaries werden in {...} eingeschlossen und die *Schlüssel-Wert-Paare* mit Kommata getrennt. D.h., dass du jedem Objekt eine eindeutige Kennung/Zuordnung geben kannst. Der Zugriff auf einzelne Objekte erfolgt dann über den *Schlüssel*, nicht über den *Index*. Das können wir uns anhand der Listen, die wir oben schon erstellt haben ganz leicht veranschaulichen:\n"
   ]
  },
  {
   "cell_type": "code",
   "execution_count": 5,
   "id": "27c5922b-3844-4a0a-9866-8ecb23bc329e",
   "metadata": {},
   "outputs": [
    {
     "name": "stdout",
     "output_type": "stream",
     "text": [
      "26\n"
     ]
    }
   ],
   "source": [
    "#die Listen von oben:\n",
    "names = [\"Alex\", \"Giselle\", \"Can\", \"Amber\", \"Friedrich\"] \n",
    "age = [24, 23, 26, 21, 29]\n",
    "\n",
    "#Ein Dictionary sähe so aus:\n",
    "dict_1 = {\"Alex\": 25, \"Giselle\": 23, \"Can\": 26, \"Amber\": 21, \"Friedrich\": 29}\n",
    "print(dict_1[\"Can\"])"
   ]
  },
  {
   "cell_type": "markdown",
   "id": "5fb389f3-dddc-4cf8-8e2b-b13bbba7d15c",
   "metadata": {},
   "source": [
    "### In diesem Dictionary sind die Namen in \"...\" die *Schlüssel* und die dazugehörigen Alter die *Werte*. Über die print(...)-Funktion kann man sich dann mit Angabe des Dictionaries und des Schlüssels in [...] den zugehörigen Wert ausgeben lassen."
   ]
  },
  {
   "cell_type": "markdown",
   "id": "767e35d1-5e21-41df-a4d4-b5f90aa602b9",
   "metadata": {},
   "source": [
    "### Dictionaries sind sehr flexibel. Objekte können hinzugefügt, verändert oder entfernt werden. Mit dem Zuweisungsoperator (s.u.) können weitere Werte hinzugefügt, mit der Funktion pop(...) entfernt werden."
   ]
  },
  {
   "cell_type": "code",
   "execution_count": 6,
   "id": "a1cb9415-ed8c-42f8-baf3-a7bb8a96cc72",
   "metadata": {},
   "outputs": [
    {
     "name": "stdout",
     "output_type": "stream",
     "text": [
      "{'Giselle': 23, 'Can': 25, 'Amber': 21, 'Friedrich': 29, 'Florian': 27}\n"
     ]
    }
   ],
   "source": [
    "#Unser Dictionary:\n",
    "dict_1 = {\"Alex\": 25, \"Giselle\": 23, \"Can\": 26, \"Amber\": 21, \"Friedrich\": 29}\n",
    "\n",
    "#Hinzufügen eines Schlüssel-Wert-Paares\n",
    "dict_1[\"Florian\"] = 27\n",
    "\n",
    "#Entfernen eines Schlüssel-Wert-Paares\n",
    "dict_1.pop(\"Alex\")\n",
    "\n",
    "#Ändern eines Schlüssel-Wert-Paares\n",
    "dict_1[\"Can\"] = 25\n",
    "\n",
    "print(dict_1)"
   ]
  },
  {
   "cell_type": "markdown",
   "id": "ba2c68df-403b-4b99-9b0a-4ec60d4d0bb7",
   "metadata": {},
   "source": [
    "### Mit der Funktion keys(...) kannst du dir alle Schlüssel oder mit values(...) alle Werte eines Dictionaries separat voneinander ausgeben lassen:"
   ]
  },
  {
   "cell_type": "code",
   "execution_count": 7,
   "id": "2394f64f-ee78-4afd-bc45-77a873ad3d65",
   "metadata": {},
   "outputs": [
    {
     "name": "stdout",
     "output_type": "stream",
     "text": [
      "dict_keys(['Alex', 'Giselle', 'Can', 'Amber', 'Friedrich'])\n",
      "dict_values([25, 23, 26, 21, 29])\n"
     ]
    }
   ],
   "source": [
    "#Unser Dictionary\n",
    "dict_1 = {\"Alex\": 25, \"Giselle\": 23, \"Can\": 26, \"Amber\": 21, \"Friedrich\": 29}\n",
    "\n",
    "print(dict_1.keys())\n",
    "print(dict_1.values())"
   ]
  },
  {
   "cell_type": "markdown",
   "id": "9c26b715-04a8-4c76-a8f3-84f5ddf7bf65",
   "metadata": {},
   "source": [
    "# **Übung 3 (Dictionaries)**\n",
    "\n",
    "### Die nächste Übung ist etwas schwieriger und bedarf einer Kombination von Code aus dem bisher gelernten. Aber mit etwas Geschick könnt Ihr den Code knacken:\n",
    "\n",
    "### Erstellt ein Dictionary aus den Namen \"Peter\", \"Aylin\" und \"Sebastian\" und gebt als Wert jeweils ein beliebiges Alter an. Füge dann \"Ezra\" mit dem gleichen Alter wie \"Aylin\" hinzu. Wandle dann die **Werte** des Dictionaries in eine Liste mit eindeutigen Werten um. Lass Dir dann die Liste ausgeben."
   ]
  },
  {
   "cell_type": "code",
   "execution_count": 8,
   "id": "a4dfda42-2d8b-4311-8391-f472c96163b2",
   "metadata": {},
   "outputs": [],
   "source": [
    "# Schreibe hier deine Lösung.\n"
   ]
  },
  {
   "cell_type": "markdown",
   "id": "e10c53c3-1852-43c3-8d1b-0389edf485df",
   "metadata": {},
   "source": [
    "```{admonition} Beispiel‑Lösung\n",
    ":class: dropdown\n",
    "```python\n",
    "# dict_2 = {\"Peter\": 43, \"Aylin\": 21, \"Sebastian\": 36}\n",
    "# dict_2[\"Ezra\"] = 21\n",
    "# werte = dict_2.values\n",
    "# werte_eindeutig = set(werte) #die Umwandlung in ein Set ist nötig um den doppelten Wert 21 zu entfernen\n",
    "# liste_eindeutig = list(werte_eindeutig)\n",
    "# liste_eindeutig\n",
    "```\n",
    "```"
   ]
  }
 ],
 "metadata": {
  "kernelspec": {
   "display_name": "Python 3 (ipykernel)",
   "language": "python",
   "name": "python3"
  },
  "language_info": {
   "codemirror_mode": {
    "name": "ipython",
    "version": 3
   },
   "file_extension": ".py",
   "mimetype": "text/x-python",
   "name": "python",
   "nbconvert_exporter": "python",
   "pygments_lexer": "ipython3",
   "version": "3.12.7"
  }
 },
 "nbformat": 4,
 "nbformat_minor": 5
}

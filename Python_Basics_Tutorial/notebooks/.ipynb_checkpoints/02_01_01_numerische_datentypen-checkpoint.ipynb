{
 "cells": [
  {
   "cell_type": "markdown",
   "id": "33b3646b-004a-4561-866f-70bbc3cb1f1f",
   "metadata": {},
   "source": [
    "# Numerische Datentypen\n",
    "\n",
    "### Grundsätzlich gibt es zwei wichtige numerische Datenypen: Ganzzahlen (*int*), die Du schon kennst, und Fließkommazahlen (*float*) also Dezimalzahlen. **Wichtig:** In Python ist das Dezimalzeichen ein Punkt, kein Komma.\n",
    "\n",
    "### **HINWEIS:** Du musst in Python den Datentyp beim Erstellen einer Variable nicht explizit angeben. Als dynamische Sprache erkennt Python automatisch den Datentyp der Variablen basierend auf dem zugewiesenen Wert. Das gilt für alles Datentypen, nicht nur für numerische Datentypen. Hier ein Beispiel:"
   ]
  },
  {
   "cell_type": "code",
   "execution_count": 28,
   "id": "7bbbe1da-28e8-4b9f-bf4d-b5b4bb1519f2",
   "metadata": {},
   "outputs": [
    {
     "name": "stdout",
     "output_type": "stream",
     "text": [
      "<class 'int'>\n",
      "<class 'float'>\n"
     ]
    }
   ],
   "source": [
    "x = 5\n",
    "y = 5.5\n",
    "print(type(x))\n",
    "print(type(y))"
   ]
  },
  {
   "cell_type": "markdown",
   "id": "a302af35-8028-4213-b8c4-608a099e5ba5",
   "metadata": {},
   "source": [
    "### Mit der Funktion type(...) kannst Du dir ausgeben lassen, welchen Datentyp eine Variable hat."
   ]
  }
 ],
 "metadata": {
  "kernelspec": {
   "display_name": "Python 3 (ipykernel)",
   "language": "python",
   "name": "python3"
  },
  "language_info": {
   "codemirror_mode": {
    "name": "ipython",
    "version": 3
   },
   "file_extension": ".py",
   "mimetype": "text/x-python",
   "name": "python",
   "nbconvert_exporter": "python",
   "pygments_lexer": "ipython3",
   "version": "3.12.7"
  }
 },
 "nbformat": 4,
 "nbformat_minor": 5
}

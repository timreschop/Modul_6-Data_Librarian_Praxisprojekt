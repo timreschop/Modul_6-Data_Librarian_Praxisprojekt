{
 "cells": [
  {
   "cell_type": "markdown",
   "id": "658452e3-b880-44c8-af41-bbbeda6b65ed",
   "metadata": {},
   "source": [
    "# 2. Datentypen\n",
    "\n",
    "### Im ersten Kapitel hast Du bereits *Integer-* und *String-*Variablen kennengelernt. In Python gibt es verschiedene Datentypen, die in Variablen abgespeichert werden können. *Integers* (Ganze Zahlen) und *Strings* (Zeichenfolgen in \"...\") sind nur zwei Beispiele für Datentypen, die eine Variable annehmen kann. In diesem Kapitel lernst du weitere bzw. die gängigsten Datentypen in Python kennen. "
   ]
  }
 ],
 "metadata": {
  "kernelspec": {
   "display_name": "Python 3 (ipykernel)",
   "language": "python",
   "name": "python3"
  },
  "language_info": {
   "codemirror_mode": {
    "name": "ipython",
    "version": 3
   },
   "file_extension": ".py",
   "mimetype": "text/x-python",
   "name": "python",
   "nbconvert_exporter": "python",
   "pygments_lexer": "ipython3",
   "version": "3.12.7"
  }
 },
 "nbformat": 4,
 "nbformat_minor": 5
}

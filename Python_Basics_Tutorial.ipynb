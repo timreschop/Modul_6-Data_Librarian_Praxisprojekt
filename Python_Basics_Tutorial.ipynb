{
 "cells": [
  {
   "cell_type": "markdown",
   "id": "416cbefc-fbe3-49e7-883c-d95f15737209",
   "metadata": {},
   "source": [
    "# 1. Arithmetik und Variablen\n",
    "\n",
    "## Arithmetik\n",
    "\n",
    "### In seinen grundlegendsten Funktion kann Python wie ein Taschenrechner verwendet werden - also ganz basal für Addition, Multiplikation, Subtraktion und Division, aber auch weitaus komplexere Berechnungen.\n",
    "\n",
    "### In der folgenden Zelle findest Du einige Bespiele für solche Aufgaben, wobei der Befehl *print(...)* verwendet wird, um eine Ausgabe erzeugen zu lassen. "
   ]
  },
  {
   "cell_type": "code",
   "execution_count": 23,
   "id": "72ff2263-cf94-4cd3-9c1e-339365013421",
   "metadata": {},
   "outputs": [
    {
     "name": "stdout",
     "output_type": "stream",
     "text": [
      "5\n",
      "3\n",
      "8.0\n",
      "10\n",
      "27\n"
     ]
    }
   ],
   "source": [
    "print(2 + 3) #Addition\n",
    "print(6 - 3) #Subtraktion\n",
    "print(24 / 3) #Division\n",
    "print(2 * 5) #Multiplikation\n",
    "print(3 ** 3) #Potenzierung"
   ]
  },
  {
   "cell_type": "markdown",
   "id": "5d5be84b-c9b1-4a23-a193-349896a73f6a",
   "metadata": {},
   "source": [
    "### Du kannst das *#-Symbol* verwenden, um Deinen Code zu kommentieren, d.h. dass alles hinter dem *#-Symbol* nicht als Code ausgeführt wird. Kommmentare sind sehr hilfreich, um dem Code direkt eine Erklärung zum besseren Verständnis hinzuzufügen."
   ]
  },
  {
   "cell_type": "markdown",
   "id": "97ebe2e8-3ff6-4b9d-889a-4a697b31c815",
   "metadata": {},
   "source": [
    "# Variablen\n",
    "\n",
    "### In Python arbeitet man sehr häufig mit Variablen. Das bedeutet, dass Du bestimmte Werte in Variablen abspeichern kannst bzw. auch mehrere Werte in einer Variable. Das ist sehr nützlich, wenn ein Wert mehrfach im Code verwendet werden soll. Eine Zuweisung erfolgt über den *= - Operator*. Die Benennung der Variablen ist beliebig, d.h. Du kannst sie benennen, wie Du willst. Es empfiehlt sich jedoch in der Praxis, Namen zu verwenden, die die Variable sinnvoll mit dem Wert assoziieren. Das macht den Code für Dich und andere verständlicher. \n",
    "\n",
    "### **HINWEIS**: Achte darauf, bei der Benennung von Variablen, keine bereits verwendeten Namen zu verwenden. Du kennst z.B. schon die print(...)-Funktion. Wenn du eine Variable \"print\" nennst, würde das die Funktion überschreiben, die dann nicht mehr ausgeführt werden könnte.\n",
    "\n",
    "### In der folgenden Zelle siehst Du, wie man eine Variable einem Wert zuweist und diese dann über print(...) ausgeben lassen kann."
   ]
  },
  {
   "cell_type": "code",
   "execution_count": 24,
   "id": "dc62e193-0531-4b05-9f9d-b778c8a99230",
   "metadata": {},
   "outputs": [
    {
     "name": "stdout",
     "output_type": "stream",
     "text": [
      "5\n"
     ]
    }
   ],
   "source": [
    "x = 5\n",
    "print(x)"
   ]
  },
  {
   "cell_type": "markdown",
   "id": "fa8292fb-0ae2-4c30-8e21-6bb01a0b9859",
   "metadata": {},
   "source": [
    "### Du kannst dieselbe Variable dann mit *=* auch wieder überschreiben, z.B. so:"
   ]
  },
  {
   "cell_type": "code",
   "execution_count": 25,
   "id": "9637c0f2-767f-4fd4-b3b1-d694fa3848ea",
   "metadata": {},
   "outputs": [
    {
     "name": "stdout",
     "output_type": "stream",
     "text": [
      "5\n",
      "10\n"
     ]
    }
   ],
   "source": [
    "x = 5\n",
    "print(x)\n",
    "x = x + 5\n",
    "print(x)"
   ]
  },
  {
   "cell_type": "markdown",
   "id": "bd9e5961-30bb-4dc4-8d7a-f171e10584bb",
   "metadata": {},
   "source": [
    "### Die Variable *x* ist somit überschrieben und nun dem Wert 10 zugewiesen.\n",
    "\n",
    "### Variablen sind also schlicht Platzhalter für Objekte, in diesem Fall eine ganze Zahl (*Integer* oder *Int*). Wenn wir weitere Variablen definieren, können wir mit diesen auch Berechnungen anstellen:"
   ]
  },
  {
   "cell_type": "code",
   "execution_count": 26,
   "id": "bec6ff0a-2a56-4185-aac8-0978c6246462",
   "metadata": {},
   "outputs": [
    {
     "name": "stdout",
     "output_type": "stream",
     "text": [
      "17\n"
     ]
    }
   ],
   "source": [
    "x = 5\n",
    "x = x + 2 #Überschreibt die Variable x wieder\n",
    "y = 10\n",
    "z = x + y\n",
    "print(z)"
   ]
  },
  {
   "cell_type": "markdown",
   "id": "c61a865b-5c79-4672-b56e-c80e43c50b84",
   "metadata": {},
   "source": [
    "### Du kannst, wie bereits erwähnt, auch mehrere Objekte in einer Variable speichern und ausgeben lassen, z.B. so:"
   ]
  },
  {
   "cell_type": "code",
   "execution_count": 27,
   "id": "638a6433-4a66-40ff-9448-26338f3a19d9",
   "metadata": {},
   "outputs": [
    {
     "name": "stdout",
     "output_type": "stream",
     "text": [
      "('Germany', 'Italy', 'France', 'UK', 'USA', 'Canada', 'Japan')\n"
     ]
    }
   ],
   "source": [
    "g7_countries = (\"Germany\", \"Italy\", \"France\", \"UK\", \"USA\", \"Canada\", \"Japan\")\n",
    "print(g7_countries)"
   ]
  },
  {
   "cell_type": "markdown",
   "id": "be8ae3b4-1991-420c-ad2d-974bc338b306",
   "metadata": {},
   "source": [
    "### In diesem Fall sind die Objekte keine ganzen Zahlen/Integers sondern sogenannte *Strings*. Ein *String* in Python ist einfach ein Stück Text – also alles, was aus Buchstaben, Zahlen oder Zeichen besteht **und in Anführungszeichen** steht.\n",
    "\n",
    "# Übung 1\n",
    "\n",
    "### Jetzt bist Du an der Reihe! Löse die folgende Übung:\n",
    "\n",
    "### Berechne das Produkt aus 3 und 6 und speichere das Ergebnis in der Variable v_1. Dividiere das Ergebnis durch 2 und speichere dieses Ergebnis in der Variable v_2. Lass dir dann das Ergebnis von v_2 ausgeben."
   ]
  },
  {
   "cell_type": "code",
   "execution_count": null,
   "id": "25fe07fe-2456-4bf3-a2c8-28779bb29f61",
   "metadata": {},
   "outputs": [],
   "source": []
  },
  {
   "cell_type": "markdown",
   "id": "658452e3-b880-44c8-af41-bbbeda6b65ed",
   "metadata": {},
   "source": [
    "# 2. Datentypen\n",
    "\n",
    "### Im ersten Kapitel hast Du bereits *Integer-* und *String-*Variablen kennengelernt. In Python gibt es verschiedene Datentypen, die in Variablen abgespeichert werden können. *Integers* (Ganze Zahlen) und *Strings* (Zeichenfolgen in \"...\") sind nur zwei Beispiele für Datentypen, die eine Variable annehmen kann. In diesem Kapitel lernst du weitere bzw. die gängigsten Datentypen in Python kennen. "
   ]
  },
  {
   "cell_type": "markdown",
   "id": "33b3646b-004a-4561-866f-70bbc3cb1f1f",
   "metadata": {},
   "source": [
    "## **Variablentypen / Datentypen**\n",
    "\n",
    "## Numerische Datentypen\n",
    "\n",
    "### Grundsätzlich gibt es zwei wichtige numerische Datenypen: Ganzzahlen (*int*), die Du schon kennst, und Fließkommazahlen (*float*) also Dezimalzahlen. **Wichtig:** In Python ist das Dezimalzeichen ein Punkt, kein Komma.\n",
    "\n",
    "### **HINWEIS:** Du musst in Python den Datentyp beim Erstellen einer Variable nicht explizit angeben. Als dynamische Sprache erkennt Python automatisch den Datentyp der Variablen basierend auf dem zugewiesenen Wert. Das gilt für alles Datentypen, nicht nur für numerische Datentypen. Hier ein Beispiel:"
   ]
  },
  {
   "cell_type": "code",
   "execution_count": 28,
   "id": "7bbbe1da-28e8-4b9f-bf4d-b5b4bb1519f2",
   "metadata": {},
   "outputs": [
    {
     "name": "stdout",
     "output_type": "stream",
     "text": [
      "<class 'int'>\n",
      "<class 'float'>\n"
     ]
    }
   ],
   "source": [
    "x = 5\n",
    "y = 5.5\n",
    "print(type(x))\n",
    "print(type(y))"
   ]
  },
  {
   "cell_type": "markdown",
   "id": "a302af35-8028-4213-b8c4-608a099e5ba5",
   "metadata": {},
   "source": [
    "### Mit der Funktion type(...) kannst Du dir ausgeben lassen, welchen Datentyp eine Variable hat."
   ]
  },
  {
   "cell_type": "markdown",
   "id": "954cc31e-f304-4ba3-b982-dd1bab8d9bc3",
   "metadata": {},
   "source": [
    "## **Strings**\n",
    "\n",
    "### *Strings* sind Zeichenfolgen (Buchstaben, Symbole, aber auch Zahlen usw.). *Strings* werden erstellt, indem man die Zeichenfolge in einfache oder doppelte Anführungszeichen einschließt, so wie hier:"
   ]
  },
  {
   "cell_type": "code",
   "execution_count": 29,
   "id": "04db7876-8509-4755-97dc-7e6d96e0a043",
   "metadata": {},
   "outputs": [
    {
     "name": "stdout",
     "output_type": "stream",
     "text": [
      "Hello, World! <class 'str'>\n",
      "Hello, World! <class 'str'>\n"
     ]
    }
   ],
   "source": [
    "a = 'Hello, World!'\n",
    "b = \"Hello, World!\"\n",
    "\n",
    "print(a, type(a))\n",
    "print(b, type(b))"
   ]
  },
  {
   "cell_type": "markdown",
   "id": "8e7b4365-7c57-44a7-8568-fafbc2d14440",
   "metadata": {},
   "source": [
    "## **Booleans**\n",
    "\n",
    "### *Booleans* sind ein Datentyp, der nur zwei Werte annehmen kann. Entweder *True* oder *False*. Sie repräsentieren den Wahrheitswert eine Aussage. Auch diesen Datentyp kannst du mit der Funktion type(...) überprüfen:"
   ]
  },
  {
   "cell_type": "code",
   "execution_count": 30,
   "id": "e30bdfeb-bfcc-4d69-bf80-03050280add9",
   "metadata": {},
   "outputs": [
    {
     "name": "stdout",
     "output_type": "stream",
     "text": [
      "<class 'bool'>\n",
      "<class 'bool'>\n"
     ]
    }
   ],
   "source": [
    "c = True\n",
    "d = False\n",
    "print(type(c))\n",
    "print(type(d))"
   ]
  },
  {
   "cell_type": "markdown",
   "id": "1f0c8dca-727d-4264-9d8a-d6f849d94feb",
   "metadata": {},
   "source": [
    "### Booleans werden häufig in Bedingungsanweisungen (if, else) verwendet (also z.B. \"Wenn x größer ist als 4 (d.h. x > 4 = True), dann tue dies, wenn nicht (d.h. x > 4 = False), dann tue dies...). Bedingungsanweisungen sind schon eine fortgeschrittene Technik, die wir zunächst nicht betrachten."
   ]
  },
  {
   "cell_type": "markdown",
   "id": "2750ce12-331a-47da-81e7-6dfc0a513aeb",
   "metadata": {},
   "source": [
    "# Collections für Variablen\n",
    "\n",
    "### Python bietet die Möglichkeit, mehrere Werte in einer einzigen Variable zu speichern, sogenannte *Collections*. Die gängigsten *Collection*-Typen sind Listen, Tupel, Sets und Dictionaries.\n",
    "\n",
    "## Listen\n",
    "\n",
    "### Listen sind die flexibleste Art, um mehrere Objekte in einer Variablen zu speichern. Listen werden mit eckigen Klammern erstellt, in denen Du die einzelnen Objekte mit Kommata trennst:"
   ]
  },
  {
   "cell_type": "code",
   "execution_count": 31,
   "id": "494b2e20-96c4-4028-8715-0c05835189a6",
   "metadata": {},
   "outputs": [
    {
     "name": "stdout",
     "output_type": "stream",
     "text": [
      "['Alex', 'Giselle', 'Can', 'Amber', 'Friedrich']\n",
      "[24, 23, 26, 21, 29]\n"
     ]
    }
   ],
   "source": [
    "names = [\"Alex\", \"Giselle\", \"Can\", \"Amber\", \"Friedrich\"] #Liste aus Strings\n",
    "age = [24, 23, 26, 21, 29] #Liste aus integers\n",
    "\n",
    "print(names)\n",
    "print(age)"
   ]
  },
  {
   "cell_type": "markdown",
   "id": "6930060a-632b-4ab7-89e3-db13b1e9be5b",
   "metadata": {},
   "source": [
    "### Man kann auch auf einzelne Elemente einer Liste zugreifen - über den sog. *Index*.\n",
    "\n",
    "### **HINWEIS**: Die Indexierung, d.h. die \"Durchnummerierung\" der Objekte in einer Liste beginnt in Python bei 0 und nicht bei 1, d.h. wenn ich auf der erste Objekt eine Liste zugreifen will, ist der Index 0, und beim zweiten Objekt 1 usw:"
   ]
  },
  {
   "cell_type": "code",
   "execution_count": 32,
   "id": "e0f688e1-3413-4a1e-9c13-7006e4e7a4f2",
   "metadata": {},
   "outputs": [
    {
     "name": "stdout",
     "output_type": "stream",
     "text": [
      "24\n"
     ]
    }
   ],
   "source": [
    "print(age[0]) #Durch [0] mache gebe ich an, auf welches Objekt ich zugreifen will."
   ]
  },
  {
   "cell_type": "markdown",
   "id": "f2b2b6f9-acb9-4aef-83d7-0f1e3dae7866",
   "metadata": {},
   "source": [
    "### Negative Indizes können ebenfalls verwendet werden, um Objekte aus der Liste \"von hinten\" zu erhalten. Mit -1 greift man bspw. auf das letzte Objekt einer Liste zu."
   ]
  },
  {
   "cell_type": "code",
   "execution_count": 33,
   "id": "a94269ac-c85c-4aff-a337-9397bb0f76b9",
   "metadata": {},
   "outputs": [
    {
     "name": "stdout",
     "output_type": "stream",
     "text": [
      "29\n"
     ]
    }
   ],
   "source": [
    "print(age[-1])"
   ]
  },
  {
   "cell_type": "markdown",
   "id": "01becedb-7bb4-4743-bacd-09ed6f07bda9",
   "metadata": {},
   "source": [
    "### Listen sind, wie gesagt, flexibel, d.h. sie können jederzeit verändert, erweitert oder dezimiert werden. Mit den Funktionen append() und remove() kannst du Objekte hinzufügen bzw. entfernen:"
   ]
  },
  {
   "cell_type": "code",
   "execution_count": 34,
   "id": "9d1b6073-1bc0-40bd-ab4b-90dbbf00e6fc",
   "metadata": {},
   "outputs": [
    {
     "name": "stdout",
     "output_type": "stream",
     "text": [
      "['Giselle', 'Can', 'Amber', 'Friedrich', 'Raffael']\n",
      "[23, 26, 21, 29, 31]\n"
     ]
    }
   ],
   "source": [
    "names.append(\"Raffael\")\n",
    "age.append(31)\n",
    "\n",
    "names.remove(\"Alex\")\n",
    "age.remove(24)\n",
    "\n",
    "print(names)\n",
    "print(age)"
   ]
  },
  {
   "cell_type": "markdown",
   "id": "f49da54b-27b0-4ff3-8457-f0dda6b15b87",
   "metadata": {},
   "source": [
    "## **Übung 1**\n",
    "\n",
    "### Erstelle eine Liste mit den Namen *Benny, Emre, Charlotte, Oleg* und *Anastasia*. Lösche dann *Benny* aus der Liste und füge *Lukas* hinzu."
   ]
  },
  {
   "cell_type": "code",
   "execution_count": null,
   "id": "003066d8-6311-413d-a8dd-d08f0a682d2b",
   "metadata": {},
   "outputs": [],
   "source": []
  },
  {
   "cell_type": "markdown",
   "id": "2ac770c6-33c3-4569-afde-926bdc0391f5",
   "metadata": {},
   "source": [
    "## **Übung 2**\n",
    "\n",
    "### Erstelle eine Liste mit den Zahlen 1 bis 3. Füge dann den String \"Four\" hinzu und gib die Liste aus."
   ]
  },
  {
   "cell_type": "code",
   "execution_count": null,
   "id": "fef862e9-c1a2-4fa9-96e5-9df38d1b3e25",
   "metadata": {},
   "outputs": [],
   "source": []
  },
  {
   "cell_type": "markdown",
   "id": "c163e59b-5771-4b38-b4e3-4b43f0f63ab3",
   "metadata": {},
   "source": [
    "# Tupel\n",
    "\n",
    "### Tupel sind der unflexibelste Datentyp, da sie nicht verändert werden können. Daher sollten sie nur verwendet werden, wenn die Daten mit Sicherheit gleich bleiben. \n",
    "\n",
    "### Ein Tupel wird mit runden Klammern und Kommata erzeugt und wenn du dich erinnerst, haben wir auch schon einen erstellt, nämlich:"
   ]
  },
  {
   "cell_type": "code",
   "execution_count": 35,
   "id": "8164456a-e8d7-452e-ba01-db1cbae595b4",
   "metadata": {},
   "outputs": [
    {
     "name": "stdout",
     "output_type": "stream",
     "text": [
      "('Germany', 'Italy', 'France', 'UK', 'USA', 'Canada', 'Japan')\n"
     ]
    }
   ],
   "source": [
    "g7_countries = (\"Germany\", \"Italy\", \"France\", \"UK\", \"USA\", \"Canada\", \"Japan\")\n",
    "print(g7_countries)"
   ]
  },
  {
   "cell_type": "markdown",
   "id": "960a633e-f1e5-4392-b328-ce639b96b721",
   "metadata": {},
   "source": [
    "### Das besondere an Tupeln ist das *Tuple Unpacking*, wobei mehrere Variablen gleichzeitig automatisch zugewiesen werden können:"
   ]
  },
  {
   "cell_type": "code",
   "execution_count": 36,
   "id": "391393c0-8a9a-4203-a04b-af15b6266b04",
   "metadata": {},
   "outputs": [
    {
     "name": "stdout",
     "output_type": "stream",
     "text": [
      "Germany\n",
      "Italy\n",
      "France\n"
     ]
    }
   ],
   "source": [
    "g7_countries = (\"Germany\", \"Italy\", \"France\", \"UK\", \"USA\", \"Canada\", \"Japan\")\n",
    "e, f, g, h, i, k, l = g7_countries\n",
    "print(e)\n",
    "print(f)\n",
    "print(g)\n",
    "#usw..."
   ]
  },
  {
   "cell_type": "markdown",
   "id": "4798f470-7473-4089-802c-c2259becd114",
   "metadata": {},
   "source": [
    "# Sets\n",
    "\n",
    "### *Sets* sind \"ungeordnet\" und außerdem nicht indizierbar, d.h. Du kannst über den *Index* nicht auf einzelne Objekte des Sets zugreifen. Außerdem ist jedes Objekt in einem *Set* einzigartig, sodass doppelte Werte automatisch entfernt werden.\n",
    "\n",
    "### *Sets* werden mit geschweiften Klammern und Kommata erzeugt:"
   ]
  },
  {
   "cell_type": "code",
   "execution_count": 37,
   "id": "55684b87-bab6-4c5a-8a80-b40258ca946c",
   "metadata": {},
   "outputs": [
    {
     "name": "stdout",
     "output_type": "stream",
     "text": [
      "{1, 2, 3, 4, 5}\n"
     ]
    }
   ],
   "source": [
    "set_1 = {1, 2, 3, 3, 4, 5} #Man achte auf die doppelte 3!\n",
    "print(set_1)"
   ]
  },
  {
   "cell_type": "markdown",
   "id": "1fcdcace-443e-41ce-9cfb-1c279fa39399",
   "metadata": {},
   "source": [
    "### Sets sind z.B. sehr nützlich, wenn man Duplikate aus Listen entfernen möchte:"
   ]
  },
  {
   "cell_type": "code",
   "execution_count": 38,
   "id": "08070f83-941e-4dd6-b368-2dea30e7d269",
   "metadata": {},
   "outputs": [
    {
     "name": "stdout",
     "output_type": "stream",
     "text": [
      "<class 'set'>\n",
      "[1, 2, 3, 4, 5] <class 'list'>\n"
     ]
    }
   ],
   "source": [
    "list_1 = [1, 2, 3, 1, 4, 5]\n",
    "list_1 = set(list_1) #Wandelt die Liste in ein Set um, wodurch doppelte Werte entfernt werden.\n",
    "print(type(list_1))\n",
    "list_1 = list(list_1) #Wandelt das Set wieder in eine Liste um, die jetzt keine Duplikate mehr enthält.\n",
    "print(list_1, type(list_1))"
   ]
  },
  {
   "cell_type": "markdown",
   "id": "f86af165-9ffd-4e80-9551-fa7ee9117d35",
   "metadata": {},
   "source": [
    "# Dictionaries\n",
    "\n",
    "### Im Prinzip sind Dictionaries eine erweiterte Version von Listen und Sets. Listen enthalten nur Werte, während Dictionaries aus *Schlüssel-Wert-Paaren* bestehen, die aber - im Gegensatz zu den Werten einer Liste - ungeordnet sind. Dictionaries werden in {...} eingeschlossen und die *Schlüssel-Wert-Paare* mit Kommata getrennt. D.h., dass du jedem Objekt eine eindeutige Kennung/Zuordnung geben kannst. Der Zugriff auf einzelne Objekte erfolgt dann über den *Schlüssel*, nicht über den *Index*. Das können wir uns anhand der Listen, die wir oben schon erstellt haben ganz leicht veranschaulichen:"
   ]
  },
  {
   "cell_type": "code",
   "execution_count": 39,
   "id": "275545fb-217d-4313-a6f2-8f5f95ec26e5",
   "metadata": {},
   "outputs": [
    {
     "name": "stdout",
     "output_type": "stream",
     "text": [
      "26\n"
     ]
    }
   ],
   "source": [
    "#die Listen von oben:\n",
    "names = [\"Alex\", \"Giselle\", \"Can\", \"Amber\", \"Friedrich\"] \n",
    "age = [24, 23, 26, 21, 29]\n",
    "\n",
    "#Ein Dictionary sähe so aus:\n",
    "dict_1 = {\"Alex\": 25, \"Giselle\": 23, \"Can\": 26, \"Amber\": 21, \"Friedrich\": 29}\n",
    "print(dict_1[\"Can\"])"
   ]
  },
  {
   "cell_type": "markdown",
   "id": "6adf4e71-c8ec-44f4-9146-89751ffa3619",
   "metadata": {},
   "source": [
    "### In diesem Dictionary sind die Namen in \"...\" die *Schlüssel* und die dazugehörigen Alter die *Werte*. Über die print(...)-Funktion kann man sich dann mit Angabe des Dictionaries und des Schlüssels in [...] den zugehörigen Wert ausgeben lassen."
   ]
  },
  {
   "cell_type": "markdown",
   "id": "9aff90c3-98ad-467a-81c1-05ad5348d110",
   "metadata": {},
   "source": [
    "### Dictionaries sind sehr flexibel. Objekte können hinzugefügt, verändert oder entfernt werden. Mit dem Zuweisungsoperator (s.u.) können weitere Werte hinzugefügt, mit der Funktion pop(...) entfernt werden."
   ]
  },
  {
   "cell_type": "code",
   "execution_count": 40,
   "id": "2655cc87-e973-48f5-8599-aa70412e032f",
   "metadata": {},
   "outputs": [
    {
     "name": "stdout",
     "output_type": "stream",
     "text": [
      "{'Giselle': 23, 'Can': 25, 'Amber': 21, 'Friedrich': 29, 'Florian': 27}\n"
     ]
    }
   ],
   "source": [
    "#Unser Dictionary:\n",
    "dict_1 = {\"Alex\": 25, \"Giselle\": 23, \"Can\": 26, \"Amber\": 21, \"Friedrich\": 29}\n",
    "\n",
    "#Hinzufügen eines Schlüssel-Wert-Paares\n",
    "dict_1[\"Florian\"] = 27\n",
    "\n",
    "#Entfernen eines Schlüssel-Wert-Paares\n",
    "dict_1.pop(\"Alex\")\n",
    "\n",
    "#Ändern eines Schlüssel-Wert-Paares\n",
    "dict_1[\"Can\"] = 25\n",
    "\n",
    "print(dict_1)"
   ]
  },
  {
   "cell_type": "markdown",
   "id": "128808c4-4d3d-44f0-9989-a6230ddf0df1",
   "metadata": {},
   "source": [
    "### Mit keys(...) kannst du dir alle Schlüssel oder mit values(...) alle Werte eines Dictionaries ausgeben separat voneinander ausgeben lassen:"
   ]
  },
  {
   "cell_type": "code",
   "execution_count": 41,
   "id": "9dbb6945-3137-4942-9b54-68574e9add7b",
   "metadata": {},
   "outputs": [
    {
     "name": "stdout",
     "output_type": "stream",
     "text": [
      "dict_keys(['Alex', 'Giselle', 'Can', 'Amber', 'Friedrich'])\n",
      "dict_values([25, 23, 26, 21, 29])\n"
     ]
    }
   ],
   "source": [
    "#Unser Dictionary\n",
    "dict_1 = {\"Alex\": 25, \"Giselle\": 23, \"Can\": 26, \"Amber\": 21, \"Friedrich\": 29}\n",
    "\n",
    "print(dict_1.keys())\n",
    "print(dict_1.values())"
   ]
  },
  {
   "cell_type": "markdown",
   "id": "a2899b5c-19c4-4606-a5fe-cda15a4b94e4",
   "metadata": {},
   "source": [
    "# Übung 3\n",
    "\n",
    "### Die nächste Übung ist etwas schwieriger und bedarf einer Kombination von Code aus dem bisher gelernten. Aber mit etwas Geschick könnt Ihr den Code knacken:\n",
    "\n",
    "### Erstellt ein Dictionary aus den Namen \"Peter\", \"Aylin\" und \"Sebastian\" und gebt als Wert jeweils ein beliebiges Alter an. Füge dann \"Ezra\" mit dem gleichen Alter wie \"Aylin\" hinzu. Wandle dann die **Werte** des Dictionaries in eine Liste mit eindeutigen Werten um."
   ]
  },
  {
   "cell_type": "code",
   "execution_count": null,
   "id": "14790e6b-3fb3-4377-8d0e-61d01f7464c4",
   "metadata": {},
   "outputs": [],
   "source": []
  },
  {
   "cell_type": "markdown",
   "id": "a7210482-3c7d-4e24-8c02-bed221754edd",
   "metadata": {},
   "source": [
    "# 3. Module\n",
    "\n",
    "### Mit Python kann man im Grunde alles von Grund auf neu programmieren. Es gibt allerdings schon sehr viel Code, der bereits von anderen Python-Nutzern umgesetzt wurde. Wenn dieser Code online veröffentlicht wurde, kannst auch Du ihn nutzen und für deine Zwecke anpassen. \n",
    "\n",
    "### Da Python mit verschiedenen Modulen bzw. Bibliotheken arbeitet, musst du diese aber zunächst installieren und importieren, bevor Funktionen und Code verwenden kannst, der entsprechende Module benutzt, die nicht schon in Python vorinstalliert sind.\n",
    "\n",
    "## Bibliotheken installieren\n",
    "\n",
    "### Es gibt sehr viele weitere Bibliotheken, die in der Standardversion von Python noch nicht enthalten sind. Die Veröffentlichungen von Python-Bibliotheken werden i.d.R. auf https://pypi.org veröffentlicht\n",
    "\n",
    "### Um Bibliotheken von PyPi zu installieren, kannst du **pip** verwenden. Du kannst **pip** direkt aus Python heraus in deinem Notebook aufrufen, üblicherweise benutzt man **pip** aber über das Terminal.\n",
    "\n",
    "### Eine der am meisten verwendeten Bibliotheken sind **pandas** und **matplotlib**, die insbesondere zur Datenverarbeitung, -analyse und -visualisierung verwendet werden. Hier zeigen wir dir beide Wege der Installation einmal exemplarisch:"
   ]
  },
  {
   "cell_type": "code",
   "execution_count": 42,
   "id": "cda647dc-8fb3-4248-a9d1-6de9daf22f74",
   "metadata": {},
   "outputs": [
    {
     "name": "stderr",
     "output_type": "stream",
     "text": [
      "WARNING: pip is being invoked by an old script wrapper. This will fail in a future version of pip.\n",
      "Please see https://github.com/pypa/pip/issues/5599 for advice on fixing the underlying issue.\n",
      "To avoid this problem you can invoke Python with '-m pip' instead of running pip directly.\n"
     ]
    },
    {
     "data": {
      "text/html": [
       "<pre style=\"white-space:pre;overflow-x:auto;line-height:normal;font-family:Menlo,'DejaVu Sans Mono',consolas,'Courier New',monospace\">Requirement already satisfied: pandas in /home/tim/anaconda3/lib/python3.12/site-packages (2.2.2)\n",
       "</pre>\n"
      ],
      "text/plain": [
       "Requirement already satisfied: pandas in /home/tim/anaconda3/lib/python3.12/site-packages (2.2.2)\n"
      ]
     },
     "metadata": {},
     "output_type": "display_data"
    },
    {
     "data": {
      "text/html": [
       "<pre style=\"white-space:pre;overflow-x:auto;line-height:normal;font-family:Menlo,'DejaVu Sans Mono',consolas,'Courier New',monospace\">Requirement already satisfied: numpy&gt;=1.26.0 in /home/tim/anaconda3/lib/python3.12/site-packages (from pandas) (1.26.4)\n",
       "</pre>\n"
      ],
      "text/plain": [
       "Requirement already satisfied: numpy>=1.26.0 in /home/tim/anaconda3/lib/python3.12/site-packages (from pandas) (1.26.4)\n"
      ]
     },
     "metadata": {},
     "output_type": "display_data"
    },
    {
     "data": {
      "text/html": [
       "<pre style=\"white-space:pre;overflow-x:auto;line-height:normal;font-family:Menlo,'DejaVu Sans Mono',consolas,'Courier New',monospace\">Requirement already satisfied: python-dateutil&gt;=2.8.2 in /home/tim/anaconda3/lib/python3.12/site-packages (from pandas) (2.9.0.post0)\n",
       "</pre>\n"
      ],
      "text/plain": [
       "Requirement already satisfied: python-dateutil>=2.8.2 in /home/tim/anaconda3/lib/python3.12/site-packages (from pandas) (2.9.0.post0)\n"
      ]
     },
     "metadata": {},
     "output_type": "display_data"
    },
    {
     "data": {
      "text/html": [
       "<pre style=\"white-space:pre;overflow-x:auto;line-height:normal;font-family:Menlo,'DejaVu Sans Mono',consolas,'Courier New',monospace\">Requirement already satisfied: pytz&gt;=2020.1 in /home/tim/anaconda3/lib/python3.12/site-packages (from pandas) (2024.1)\n",
       "</pre>\n"
      ],
      "text/plain": [
       "Requirement already satisfied: pytz>=2020.1 in /home/tim/anaconda3/lib/python3.12/site-packages (from pandas) (2024.1)\n"
      ]
     },
     "metadata": {},
     "output_type": "display_data"
    },
    {
     "data": {
      "text/html": [
       "<pre style=\"white-space:pre;overflow-x:auto;line-height:normal;font-family:Menlo,'DejaVu Sans Mono',consolas,'Courier New',monospace\">Requirement already satisfied: tzdata&gt;=2022.7 in /home/tim/anaconda3/lib/python3.12/site-packages (from pandas) (2023.3)\n",
       "</pre>\n"
      ],
      "text/plain": [
       "Requirement already satisfied: tzdata>=2022.7 in /home/tim/anaconda3/lib/python3.12/site-packages (from pandas) (2023.3)\n"
      ]
     },
     "metadata": {},
     "output_type": "display_data"
    },
    {
     "data": {
      "text/html": [
       "<pre style=\"white-space:pre;overflow-x:auto;line-height:normal;font-family:Menlo,'DejaVu Sans Mono',consolas,'Courier New',monospace\">Requirement already satisfied: six&gt;=1.5 in /home/tim/anaconda3/lib/python3.12/site-packages (from python-dateutil&gt;=2.8.2-&gt;pandas) (1.16.0)\n",
       "</pre>\n"
      ],
      "text/plain": [
       "Requirement already satisfied: six>=1.5 in /home/tim/anaconda3/lib/python3.12/site-packages (from python-dateutil>=2.8.2->pandas) (1.16.0)\n"
      ]
     },
     "metadata": {},
     "output_type": "display_data"
    },
    {
     "data": {
      "text/plain": [
       "0"
      ]
     },
     "execution_count": 42,
     "metadata": {},
     "output_type": "execute_result"
    }
   ],
   "source": [
    "#Installation direkt aus Python heraus\n",
    "import pip\n",
    "pip.main([\"install\", \"pandas\"])"
   ]
  },
  {
   "cell_type": "code",
   "execution_count": 43,
   "id": "d1bb3e39-4f72-423f-a219-f7641c32267c",
   "metadata": {},
   "outputs": [
    {
     "ename": "SyntaxError",
     "evalue": "invalid syntax (1260933214.py, line 2)",
     "output_type": "error",
     "traceback": [
      "\u001b[0;36m  Cell \u001b[0;32mIn[43], line 2\u001b[0;36m\u001b[0m\n\u001b[0;31m    pip install pandas\u001b[0m\n\u001b[0m        ^\u001b[0m\n\u001b[0;31mSyntaxError\u001b[0m\u001b[0;31m:\u001b[0m invalid syntax\n"
     ]
    }
   ],
   "source": [
    "#Installation im Terminal\n",
    "pip install pandas"
   ]
  },
  {
   "cell_type": "markdown",
   "id": "187e004d-be0e-4ded-9ce1-a3c0394d6a56",
   "metadata": {},
   "source": [
    "### Um eine Bibliothek oder ein Modul zu installieren, muss der Befehl **import** verwendet werden und der Name der Bibliohek und an Alias angegeben werden:"
   ]
  },
  {
   "cell_type": "code",
   "execution_count": 44,
   "id": "597154ee-fc5d-46be-819a-d1d3597348d0",
   "metadata": {},
   "outputs": [
    {
     "data": {
      "text/html": [
       "<pre style=\"white-space:pre;overflow-x:auto;line-height:normal;font-family:Menlo,'DejaVu Sans Mono',consolas,'Courier New',monospace\">NumExpr defaulting to 1 threads.\n",
       "</pre>\n"
      ],
      "text/plain": [
       "NumExpr defaulting to 1 threads.\n"
      ]
     },
     "metadata": {},
     "output_type": "display_data"
    }
   ],
   "source": [
    "import pandas as pd\n",
    "\n",
    "#oder\n",
    "\n",
    "import matplotlib.pyplot as plt"
   ]
  },
  {
   "cell_type": "markdown",
   "id": "8bad1d12-6543-4197-b3d8-1c7b835d07ca",
   "metadata": {},
   "source": [
    "### Funktionen von **pandas** können jetzt über das Kürzel **pd** abgerufen werden."
   ]
  },
  {
   "cell_type": "markdown",
   "id": "689c0499-6aff-44c1-9ecb-12f5b267cadb",
   "metadata": {},
   "source": [
    "# 4. pandas und matplotlib\n",
    "\n",
    "### Da wir nun die beiden Bibliotheken importiert haben, können wir mit ihnen arbeiten. Mit **pandas** kann man Daten in eine tabellarische Form, einen sog. **DataFrame** umwandeln und analysieren und anschließend mit **matplotlib** visualisieren.\n",
    "\n",
    "### Beispielhaft könnte das so aussehen:"
   ]
  },
  {
   "cell_type": "code",
   "execution_count": 45,
   "id": "6b39f204-92db-4d40-9683-13ba21f0b89c",
   "metadata": {},
   "outputs": [
    {
     "data": {
      "text/html": [
       "<div>\n",
       "<style scoped>\n",
       "    .dataframe tbody tr th:only-of-type {\n",
       "        vertical-align: middle;\n",
       "    }\n",
       "\n",
       "    .dataframe tbody tr th {\n",
       "        vertical-align: top;\n",
       "    }\n",
       "\n",
       "    .dataframe thead th {\n",
       "        text-align: right;\n",
       "    }\n",
       "</style>\n",
       "<table border=\"1\" class=\"dataframe\">\n",
       "  <thead>\n",
       "    <tr style=\"text-align: right;\">\n",
       "      <th></th>\n",
       "      <th>Name</th>\n",
       "      <th>Alter</th>\n",
       "      <th>Hobby</th>\n",
       "    </tr>\n",
       "  </thead>\n",
       "  <tbody>\n",
       "    <tr>\n",
       "      <th>0</th>\n",
       "      <td>Alex</td>\n",
       "      <td>24</td>\n",
       "      <td>Gaming</td>\n",
       "    </tr>\n",
       "    <tr>\n",
       "      <th>1</th>\n",
       "      <td>Giselle</td>\n",
       "      <td>23</td>\n",
       "      <td>Fußball</td>\n",
       "    </tr>\n",
       "    <tr>\n",
       "      <th>2</th>\n",
       "      <td>Can</td>\n",
       "      <td>26</td>\n",
       "      <td>Fußball</td>\n",
       "    </tr>\n",
       "    <tr>\n",
       "      <th>3</th>\n",
       "      <td>Amber</td>\n",
       "      <td>21</td>\n",
       "      <td>Singen</td>\n",
       "    </tr>\n",
       "    <tr>\n",
       "      <th>4</th>\n",
       "      <td>Friedrich</td>\n",
       "      <td>29</td>\n",
       "      <td>Lesen</td>\n",
       "    </tr>\n",
       "  </tbody>\n",
       "</table>\n",
       "</div>"
      ],
      "text/plain": [
       "        Name  Alter    Hobby\n",
       "0       Alex     24   Gaming\n",
       "1    Giselle     23  Fußball\n",
       "2        Can     26  Fußball\n",
       "3      Amber     21   Singen\n",
       "4  Friedrich     29    Lesen"
      ]
     },
     "execution_count": 45,
     "metadata": {},
     "output_type": "execute_result"
    }
   ],
   "source": [
    "#Zunächst erstellen wir drei Listen mit gleich vielen Elementen - eine für Namen, eine für Alter und eine für Hobbies\n",
    "#Jede Position in den Listen gehört logisch zusammen (z.B. Name, Alter und Hobby einer bestimmten Person)\n",
    "#Der Einfachheit halber verwenden wir die Listen, die wir bereits erstellt haben:\n",
    "\n",
    "names = [\"Alex\", \"Giselle\", \"Can\", \"Amber\", \"Friedrich\"] \n",
    "age = [24, 23, 26, 21, 29] \n",
    "hobby = [\"Gaming\", \"Fußball\", \"Fußball\", \"Singen\", \"Lesen\"]\n",
    "\n",
    "#Nun bündeln wir die Listen in einem Dictionary - erstellen also Schlüssel-Wert-Paare. D.h. unser Dictionary besteht aus mehreren Listen,\n",
    "#denen ein Schlüssel zugeordnet wird:\n",
    "data = {\"Name\": names, \"Alter\": age, \"Hobby\": hobby}\n",
    "\n",
    "#Jetzt können wir mit pandas einen DataFrane ersellen - eine tabellarische Struktur (ähnlich wie Excel)\n",
    "#Die Spalten ergeben sich dabei aus den Schlüssel-Wert-Paaren:\n",
    "df = pd.DataFrame(data)\n",
    "\n",
    "#Jetzt lassen wir uns den DataFrame (df) ausgeben, das geht mit print(df) oder einfach mit \"df\"\n",
    "df"
   ]
  },
  {
   "cell_type": "markdown",
   "id": "20ae3823-cd2f-4bf3-906c-1aec578454bd",
   "metadata": {},
   "source": [
    "### Nun sind unsere Daten in einer sauberen tabellarischen Form unter der Variablen *df* abgespeichert\n",
    "\n",
    "###  Man könnte nun z.B. die Funktion *sort_values()* von **pandas** verwenden, um die Daten nach den Werten einer bestimmten Spalte zu sortieren. In diesem Fall nehmen wir das Alter und lassen es absteigend sortieren:"
   ]
  },
  {
   "cell_type": "code",
   "execution_count": 46,
   "id": "dd2eb37a-5b39-40e7-810e-9f263bce044b",
   "metadata": {},
   "outputs": [],
   "source": [
    "df_sorted = df.sort_values(by=\"Alter\", ascending=False)"
   ]
  },
  {
   "cell_type": "markdown",
   "id": "2f07c78e-2793-4c87-b7b7-5b52e79ee320",
   "metadata": {},
   "source": [
    "### *by=\"Alter\"* gibt an, aus welcher Spalte die Werte zur Sortierung entnommen werden sollen, *ascending=False* kehrt die Sortierung (ascending - aufsteigend) um, sodass das Alter absteigend sortiert wird. *ascending=True* würde die Werte aufsteigend sortieren. mit der Erstellung der neuen Variable *df_sorted* haben wir einen neuen DataFrame erstellt. Hätten wir einfach wieder die Variable *df* verwendet, hätten wir unseren ersten DataFrame überschrieben. Es ist wichtig, das im Hinterkopf zu behalten, um den ursprünglichen **DataFrame** oder bestimmte berarbeitete **DataFrames** zu erhalten, sofern das relevant für die eigene Datenverarbeitung ist. Unser neuer **DataFrame** sieht nun so aus:"
   ]
  },
  {
   "cell_type": "code",
   "execution_count": 47,
   "id": "f0b00b39-da92-41ff-98f0-5b8f9628b1b0",
   "metadata": {},
   "outputs": [
    {
     "data": {
      "text/html": [
       "<div>\n",
       "<style scoped>\n",
       "    .dataframe tbody tr th:only-of-type {\n",
       "        vertical-align: middle;\n",
       "    }\n",
       "\n",
       "    .dataframe tbody tr th {\n",
       "        vertical-align: top;\n",
       "    }\n",
       "\n",
       "    .dataframe thead th {\n",
       "        text-align: right;\n",
       "    }\n",
       "</style>\n",
       "<table border=\"1\" class=\"dataframe\">\n",
       "  <thead>\n",
       "    <tr style=\"text-align: right;\">\n",
       "      <th></th>\n",
       "      <th>Name</th>\n",
       "      <th>Alter</th>\n",
       "      <th>Hobby</th>\n",
       "    </tr>\n",
       "  </thead>\n",
       "  <tbody>\n",
       "    <tr>\n",
       "      <th>4</th>\n",
       "      <td>Friedrich</td>\n",
       "      <td>29</td>\n",
       "      <td>Lesen</td>\n",
       "    </tr>\n",
       "    <tr>\n",
       "      <th>2</th>\n",
       "      <td>Can</td>\n",
       "      <td>26</td>\n",
       "      <td>Fußball</td>\n",
       "    </tr>\n",
       "    <tr>\n",
       "      <th>0</th>\n",
       "      <td>Alex</td>\n",
       "      <td>24</td>\n",
       "      <td>Gaming</td>\n",
       "    </tr>\n",
       "    <tr>\n",
       "      <th>1</th>\n",
       "      <td>Giselle</td>\n",
       "      <td>23</td>\n",
       "      <td>Fußball</td>\n",
       "    </tr>\n",
       "    <tr>\n",
       "      <th>3</th>\n",
       "      <td>Amber</td>\n",
       "      <td>21</td>\n",
       "      <td>Singen</td>\n",
       "    </tr>\n",
       "  </tbody>\n",
       "</table>\n",
       "</div>"
      ],
      "text/plain": [
       "        Name  Alter    Hobby\n",
       "4  Friedrich     29    Lesen\n",
       "2        Can     26  Fußball\n",
       "0       Alex     24   Gaming\n",
       "1    Giselle     23  Fußball\n",
       "3      Amber     21   Singen"
      ]
     },
     "execution_count": 47,
     "metadata": {},
     "output_type": "execute_result"
    }
   ],
   "source": [
    "df_sorted"
   ]
  },
  {
   "cell_type": "markdown",
   "id": "48d7b65d-c29b-4529-9294-8330c624418a",
   "metadata": {},
   "source": [
    "### Wir können über pandas auch .csv- oder .xlsx-Dateien, die wir normalerweise mit Excel öffnen würden einlesen und ebenfalls in einem DataFrame darstellen lassen, um mit den Daten zu arbeiten. z.B. so:"
   ]
  },
  {
   "cell_type": "code",
   "execution_count": null,
   "id": "8a91359e-82a3-4c43-bc76-d06f2b203171",
   "metadata": {},
   "outputs": [],
   "source": [
    "df_stock =  "
   ]
  },
  {
   "cell_type": "markdown",
   "id": "a0b68636-d63c-419e-975b-1622e4efbb4f",
   "metadata": {},
   "source": [
    "### Die Datei enthält Zeitstempel und Kursveränderung einer Aktie zu bestimmten Zeitpunkten. Wenn wir bpsw. nur Daten für einen ganz bestimmten Zeitraum sehen wollen, können wir den **DataFrame** mit der Funktion *loc()* dementsprechend filtern und wieder in einen neuen **DataFrame** abspeichern:"
   ]
  }
 ],
 "metadata": {
  "kernelspec": {
   "display_name": "Python 3 (ipykernel)",
   "language": "python",
   "name": "python3"
  },
  "language_info": {
   "codemirror_mode": {
    "name": "ipython",
    "version": 3
   },
   "file_extension": ".py",
   "mimetype": "text/x-python",
   "name": "python",
   "nbconvert_exporter": "python",
   "pygments_lexer": "ipython3",
   "version": "3.12.7"
  }
 },
 "nbformat": 4,
 "nbformat_minor": 5
}

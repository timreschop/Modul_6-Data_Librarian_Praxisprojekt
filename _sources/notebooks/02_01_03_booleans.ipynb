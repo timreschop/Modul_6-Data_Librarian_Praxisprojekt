{
 "cells": [
  {
   "cell_type": "markdown",
   "id": "8e7b4365-7c57-44a7-8568-fafbc2d14440",
   "metadata": {},
   "source": [
    "# **Booleans**\n",
    "\n",
    "### *Booleans* sind ein Datentyp, der nur zwei Werte annehmen kann. Entweder *True* oder *False*. Sie repräsentieren den Wahrheitswert eine Aussage. Auch diesen Datentyp kannst du mit der Funktion type(...) überprüfen:"
   ]
  },
  {
   "cell_type": "code",
   "execution_count": 30,
   "id": "e30bdfeb-bfcc-4d69-bf80-03050280add9",
   "metadata": {},
   "outputs": [
    {
     "name": "stdout",
     "output_type": "stream",
     "text": [
      "<class 'bool'>\n",
      "<class 'bool'>\n"
     ]
    }
   ],
   "source": [
    "c = True\n",
    "d = False\n",
    "print(type(c))\n",
    "print(type(d))"
   ]
  },
  {
   "cell_type": "markdown",
   "id": "1f0c8dca-727d-4264-9d8a-d6f849d94feb",
   "metadata": {},
   "source": [
    "### Booleans werden häufig in Bedingungsanweisungen (if, else) verwendet (also z.B. \"Wenn x größer ist als 4 (d.h. x > 4 = True), dann tue dies, wenn nicht (d.h. x > 4 = False), dann tue dies...). Bedingungsanweisungen sind schon eine fortgeschrittene Technik, die wir zunächst nicht betrachten."
   ]
  }
 ],
 "metadata": {
  "kernelspec": {
   "display_name": "Python 3 (ipykernel)",
   "language": "python",
   "name": "python3"
  },
  "language_info": {
   "codemirror_mode": {
    "name": "ipython",
    "version": 3
   },
   "file_extension": ".py",
   "mimetype": "text/x-python",
   "name": "python",
   "nbconvert_exporter": "python",
   "pygments_lexer": "ipython3",
   "version": "3.12.7"
  }
 },
 "nbformat": 4,
 "nbformat_minor": 5
}
